{
 "cells": [
  {
   "cell_type": "markdown",
   "id": "8cc7e3e8-7d9f-43c1-a6bf-87917bc40a29",
   "metadata": {},
   "source": [
    "# Model flow overview"
   ]
  },
  {
   "cell_type": "code",
   "execution_count": 1,
   "id": "b1fc561d-8788-49a8-afd2-cc45ac641321",
   "metadata": {},
   "outputs": [],
   "source": [
    "import os\n",
    "\n",
    "os.chdir(\"../..\")"
   ]
  },
  {
   "cell_type": "code",
   "execution_count": 2,
   "id": "4ef25a9e-3ccb-4563-824f-bd722436a952",
   "metadata": {},
   "outputs": [
    {
     "name": "stdout",
     "output_type": "stream",
     "text": [
      "/Users/wiktorlazarski/Desktop/my_project/edge-aware-face-autoencoder\n"
     ]
    }
   ],
   "source": [
    "!pwd"
   ]
  },
  {
   "cell_type": "code",
   "execution_count": 3,
   "id": "8c46bc19-0489-4f22-99a7-779234195348",
   "metadata": {},
   "outputs": [],
   "source": [
    "import torch\n",
    "\n",
    "import face_autoencoder.model as mdl\n",
    "\n",
    "%load_ext autoreload\n",
    "%autoreload 2"
   ]
  },
  {
   "cell_type": "code",
   "execution_count": 4,
   "id": "cf236e1e-abee-41cc-ae9d-701ace02949d",
   "metadata": {},
   "outputs": [],
   "source": [
    "nn_input_image_resolution = 512\n",
    "latent_dim = 8\n",
    "hidden_dims = [32, 64, 128, 256, 512]\n",
    "\n",
    "encoder = mdl.VAEEncoder(nn_input_image_resolution=nn_input_image_resolution, latent_dim=latent_dim, hidden_dims=hidden_dims)"
   ]
  },
  {
   "cell_type": "code",
   "execution_count": 5,
   "id": "7ceed783-e696-4386-b58b-425889ba1ce2",
   "metadata": {},
   "outputs": [
    {
     "data": {
      "text/plain": [
       "VAEEncoder(\n",
       "  (cnn): Sequential(\n",
       "    (0): ConvolutionalLayer(\n",
       "      (conv_layer): Conv2d(3, 32, kernel_size=(3, 3), stride=(2, 2), padding=(1, 1))\n",
       "      (batch_norm_layer): BatchNorm2d(32, eps=1e-05, momentum=0.1, affine=True, track_running_stats=True)\n",
       "    )\n",
       "    (1): ConvolutionalLayer(\n",
       "      (conv_layer): Conv2d(32, 64, kernel_size=(3, 3), stride=(2, 2), padding=(1, 1))\n",
       "      (batch_norm_layer): BatchNorm2d(64, eps=1e-05, momentum=0.1, affine=True, track_running_stats=True)\n",
       "    )\n",
       "    (2): ConvolutionalLayer(\n",
       "      (conv_layer): Conv2d(64, 128, kernel_size=(3, 3), stride=(2, 2), padding=(1, 1))\n",
       "      (batch_norm_layer): BatchNorm2d(128, eps=1e-05, momentum=0.1, affine=True, track_running_stats=True)\n",
       "    )\n",
       "    (3): ConvolutionalLayer(\n",
       "      (conv_layer): Conv2d(128, 256, kernel_size=(3, 3), stride=(2, 2), padding=(1, 1))\n",
       "      (batch_norm_layer): BatchNorm2d(256, eps=1e-05, momentum=0.1, affine=True, track_running_stats=True)\n",
       "    )\n",
       "    (4): ConvolutionalLayer(\n",
       "      (conv_layer): Conv2d(256, 512, kernel_size=(3, 3), stride=(2, 2), padding=(1, 1))\n",
       "      (batch_norm_layer): BatchNorm2d(512, eps=1e-05, momentum=0.1, affine=True, track_running_stats=True)\n",
       "    )\n",
       "  )\n",
       "  (fc_mu): Linear(in_features=131072, out_features=8, bias=True)\n",
       "  (fc_var): Linear(in_features=131072, out_features=8, bias=True)\n",
       ")"
      ]
     },
     "execution_count": 5,
     "metadata": {},
     "output_type": "execute_result"
    }
   ],
   "source": [
    "encoder"
   ]
  },
  {
   "cell_type": "code",
   "execution_count": 6,
   "id": "87d99a55-feb6-4cfa-9c2d-25459f3bbe96",
   "metadata": {},
   "outputs": [],
   "source": [
    "batch_size = 4\n",
    "mock_batch = torch.rand((batch_size, 3, nn_input_image_resolution, nn_input_image_resolution))"
   ]
  },
  {
   "cell_type": "code",
   "execution_count": 7,
   "id": "ca6a3fcc-f859-4b43-8a76-0ad29b56d82a",
   "metadata": {},
   "outputs": [
    {
     "data": {
      "text/plain": [
       "torch.Size([4, 3, 512, 512])"
      ]
     },
     "execution_count": 7,
     "metadata": {},
     "output_type": "execute_result"
    }
   ],
   "source": [
    "mock_batch.size()"
   ]
  },
  {
   "cell_type": "code",
   "execution_count": 8,
   "id": "f48cabd5-dea3-47ae-9b03-b9f0f891a622",
   "metadata": {},
   "outputs": [],
   "source": [
    "encoder_out = encoder(mock_batch)"
   ]
  },
  {
   "cell_type": "code",
   "execution_count": 9,
   "id": "0d599ff3-50a2-4824-9027-44ac0158fb25",
   "metadata": {},
   "outputs": [
    {
     "data": {
      "text/plain": [
       "torch.Size([4, 8])"
      ]
     },
     "execution_count": 9,
     "metadata": {},
     "output_type": "execute_result"
    }
   ],
   "source": [
    "encoder_out.size()"
   ]
  },
  {
   "cell_type": "code",
   "execution_count": 10,
   "id": "3247568a-e60a-4134-9d0f-4f47868ba3b4",
   "metadata": {},
   "outputs": [],
   "source": [
    "decoder = mdl.VAEDecoder(nn_output_image_res=nn_input_image_resolution, latent_dim=latent_dim, hidden_dims=list(reversed(hidden_dims)))"
   ]
  },
  {
   "cell_type": "code",
   "execution_count": 11,
   "id": "493f8355-bacf-4a2d-91b6-875c5547f993",
   "metadata": {},
   "outputs": [
    {
     "data": {
      "text/plain": [
       "VAEDecoder(\n",
       "  (input_layer): Linear(in_features=8, out_features=131072, bias=True)\n",
       "  (decoder): Sequential(\n",
       "    (0): TransposeConvolution(\n",
       "      (transpose_conv): ConvTranspose2d(512, 256, kernel_size=(3, 3), stride=(2, 2), padding=(1, 1), output_padding=(1, 1))\n",
       "      (batch_norm_layer): BatchNorm2d(256, eps=1e-05, momentum=0.1, affine=True, track_running_stats=True)\n",
       "    )\n",
       "    (1): TransposeConvolution(\n",
       "      (transpose_conv): ConvTranspose2d(256, 128, kernel_size=(3, 3), stride=(2, 2), padding=(1, 1), output_padding=(1, 1))\n",
       "      (batch_norm_layer): BatchNorm2d(128, eps=1e-05, momentum=0.1, affine=True, track_running_stats=True)\n",
       "    )\n",
       "    (2): TransposeConvolution(\n",
       "      (transpose_conv): ConvTranspose2d(128, 64, kernel_size=(3, 3), stride=(2, 2), padding=(1, 1), output_padding=(1, 1))\n",
       "      (batch_norm_layer): BatchNorm2d(64, eps=1e-05, momentum=0.1, affine=True, track_running_stats=True)\n",
       "    )\n",
       "    (3): TransposeConvolution(\n",
       "      (transpose_conv): ConvTranspose2d(64, 32, kernel_size=(3, 3), stride=(2, 2), padding=(1, 1), output_padding=(1, 1))\n",
       "      (batch_norm_layer): BatchNorm2d(32, eps=1e-05, momentum=0.1, affine=True, track_running_stats=True)\n",
       "    )\n",
       "    (4): TransposeConvolution(\n",
       "      (transpose_conv): ConvTranspose2d(32, 32, kernel_size=(3, 3), stride=(2, 2), padding=(1, 1), output_padding=(1, 1))\n",
       "      (batch_norm_layer): BatchNorm2d(32, eps=1e-05, momentum=0.1, affine=True, track_running_stats=True)\n",
       "    )\n",
       "    (5): Conv2d(32, 3, kernel_size=(3, 3), stride=(1, 1), padding=(1, 1))\n",
       "  )\n",
       ")"
      ]
     },
     "execution_count": 11,
     "metadata": {},
     "output_type": "execute_result"
    }
   ],
   "source": [
    "decoder"
   ]
  },
  {
   "cell_type": "code",
   "execution_count": 12,
   "id": "bf36540e-35f3-4703-a171-237a44f4672a",
   "metadata": {},
   "outputs": [],
   "source": [
    "out = decoder(encoder_out)"
   ]
  },
  {
   "cell_type": "code",
   "execution_count": 13,
   "id": "2f9ededd-5e00-423f-9670-69464f52feb7",
   "metadata": {},
   "outputs": [
    {
     "data": {
      "text/plain": [
       "torch.Size([4, 3, 512, 512])"
      ]
     },
     "execution_count": 13,
     "metadata": {},
     "output_type": "execute_result"
    }
   ],
   "source": [
    "out.shape"
   ]
  },
  {
   "cell_type": "code",
   "execution_count": 14,
   "id": "bf209fc8-0b68-4a5b-a19c-61c1e514acc1",
   "metadata": {},
   "outputs": [],
   "source": [
    "vae = mdl.VanillaVAE(nn_input_image_resolution=nn_input_image_resolution, latent_dim=latent_dim, hidden_dims=hidden_dims)"
   ]
  },
  {
   "cell_type": "code",
   "execution_count": 15,
   "id": "f1a238e5-1b4f-4ef0-b596-3fa4be98a5a5",
   "metadata": {},
   "outputs": [
    {
     "data": {
      "text/plain": [
       "VanillaVAE(\n",
       "  (encoder): VAEEncoder(\n",
       "    (cnn): Sequential(\n",
       "      (0): ConvolutionalLayer(\n",
       "        (conv_layer): Conv2d(3, 32, kernel_size=(3, 3), stride=(2, 2), padding=(1, 1))\n",
       "        (batch_norm_layer): BatchNorm2d(32, eps=1e-05, momentum=0.1, affine=True, track_running_stats=True)\n",
       "      )\n",
       "      (1): ConvolutionalLayer(\n",
       "        (conv_layer): Conv2d(32, 64, kernel_size=(3, 3), stride=(2, 2), padding=(1, 1))\n",
       "        (batch_norm_layer): BatchNorm2d(64, eps=1e-05, momentum=0.1, affine=True, track_running_stats=True)\n",
       "      )\n",
       "      (2): ConvolutionalLayer(\n",
       "        (conv_layer): Conv2d(64, 128, kernel_size=(3, 3), stride=(2, 2), padding=(1, 1))\n",
       "        (batch_norm_layer): BatchNorm2d(128, eps=1e-05, momentum=0.1, affine=True, track_running_stats=True)\n",
       "      )\n",
       "      (3): ConvolutionalLayer(\n",
       "        (conv_layer): Conv2d(128, 256, kernel_size=(3, 3), stride=(2, 2), padding=(1, 1))\n",
       "        (batch_norm_layer): BatchNorm2d(256, eps=1e-05, momentum=0.1, affine=True, track_running_stats=True)\n",
       "      )\n",
       "      (4): ConvolutionalLayer(\n",
       "        (conv_layer): Conv2d(256, 512, kernel_size=(3, 3), stride=(2, 2), padding=(1, 1))\n",
       "        (batch_norm_layer): BatchNorm2d(512, eps=1e-05, momentum=0.1, affine=True, track_running_stats=True)\n",
       "      )\n",
       "    )\n",
       "    (fc_mu): Linear(in_features=131072, out_features=8, bias=True)\n",
       "    (fc_var): Linear(in_features=131072, out_features=8, bias=True)\n",
       "  )\n",
       "  (decoder): VAEDecoder(\n",
       "    (input_layer): Linear(in_features=8, out_features=131072, bias=True)\n",
       "    (decoder): Sequential(\n",
       "      (0): TransposeConvolution(\n",
       "        (transpose_conv): ConvTranspose2d(512, 256, kernel_size=(3, 3), stride=(2, 2), padding=(1, 1), output_padding=(1, 1))\n",
       "        (batch_norm_layer): BatchNorm2d(256, eps=1e-05, momentum=0.1, affine=True, track_running_stats=True)\n",
       "      )\n",
       "      (1): TransposeConvolution(\n",
       "        (transpose_conv): ConvTranspose2d(256, 128, kernel_size=(3, 3), stride=(2, 2), padding=(1, 1), output_padding=(1, 1))\n",
       "        (batch_norm_layer): BatchNorm2d(128, eps=1e-05, momentum=0.1, affine=True, track_running_stats=True)\n",
       "      )\n",
       "      (2): TransposeConvolution(\n",
       "        (transpose_conv): ConvTranspose2d(128, 64, kernel_size=(3, 3), stride=(2, 2), padding=(1, 1), output_padding=(1, 1))\n",
       "        (batch_norm_layer): BatchNorm2d(64, eps=1e-05, momentum=0.1, affine=True, track_running_stats=True)\n",
       "      )\n",
       "      (3): TransposeConvolution(\n",
       "        (transpose_conv): ConvTranspose2d(64, 32, kernel_size=(3, 3), stride=(2, 2), padding=(1, 1), output_padding=(1, 1))\n",
       "        (batch_norm_layer): BatchNorm2d(32, eps=1e-05, momentum=0.1, affine=True, track_running_stats=True)\n",
       "      )\n",
       "      (4): TransposeConvolution(\n",
       "        (transpose_conv): ConvTranspose2d(32, 32, kernel_size=(3, 3), stride=(2, 2), padding=(1, 1), output_padding=(1, 1))\n",
       "        (batch_norm_layer): BatchNorm2d(32, eps=1e-05, momentum=0.1, affine=True, track_running_stats=True)\n",
       "      )\n",
       "      (5): Conv2d(32, 3, kernel_size=(3, 3), stride=(1, 1), padding=(1, 1))\n",
       "    )\n",
       "  )\n",
       ")"
      ]
     },
     "execution_count": 15,
     "metadata": {},
     "output_type": "execute_result"
    }
   ],
   "source": [
    "vae"
   ]
  },
  {
   "cell_type": "code",
   "execution_count": 16,
   "id": "a76a00ed-0e29-4b4d-93ef-ac3437d58341",
   "metadata": {},
   "outputs": [],
   "source": [
    "vae_out = vae(mock_batch)"
   ]
  },
  {
   "cell_type": "code",
   "execution_count": 17,
   "id": "2c12f579-b85c-44b6-bf96-fddc02e56058",
   "metadata": {},
   "outputs": [
    {
     "data": {
      "text/plain": [
       "torch.Size([4, 3, 512, 512])"
      ]
     },
     "execution_count": 17,
     "metadata": {},
     "output_type": "execute_result"
    }
   ],
   "source": [
    "vae_out.shape"
   ]
  }
 ],
 "metadata": {
  "kernelspec": {
   "display_name": "Python 3 (ipykernel)",
   "language": "python",
   "name": "python3"
  },
  "language_info": {
   "codemirror_mode": {
    "name": "ipython",
    "version": 3
   },
   "file_extension": ".py",
   "mimetype": "text/x-python",
   "name": "python",
   "nbconvert_exporter": "python",
   "pygments_lexer": "ipython3",
   "version": "3.9.0"
  }
 },
 "nbformat": 4,
 "nbformat_minor": 5
}
