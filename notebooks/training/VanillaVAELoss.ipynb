{
 "cells": [
  {
   "cell_type": "markdown",
   "id": "29e1d042-9770-45f0-9af9-fa28754bcb47",
   "metadata": {},
   "source": [
    "# VanillaVAE loss"
   ]
  },
  {
   "cell_type": "code",
   "execution_count": 1,
   "id": "5a2be2d4-9446-40d7-b2b7-6d75af79d890",
   "metadata": {},
   "outputs": [],
   "source": [
    "import os\n",
    "\n",
    "os.chdir(\"../..\")"
   ]
  },
  {
   "cell_type": "code",
   "execution_count": 2,
   "id": "1a1424fa-3a65-4edb-96cf-85ba581045e2",
   "metadata": {},
   "outputs": [
    {
     "name": "stdout",
     "output_type": "stream",
     "text": [
      "/Users/wiktorlazarski/Desktop/my_project/edge-aware-face-autoencoder\n"
     ]
    }
   ],
   "source": [
    "!pwd"
   ]
  },
  {
   "cell_type": "code",
   "execution_count": 3,
   "id": "264c78ce-e467-4a75-8002-b744f1209ba0",
   "metadata": {},
   "outputs": [],
   "source": [
    "import torch\n",
    "\n",
    "import face_autoencoder.model as mdl\n",
    "from scripts.training import losses as l\n",
    "\n",
    "%load_ext autoreload\n",
    "%autoreload 2"
   ]
  },
  {
   "cell_type": "code",
   "execution_count": 4,
   "id": "9ac5e7f9-8d68-4b0b-bb71-d4ebecc66faf",
   "metadata": {},
   "outputs": [],
   "source": [
    "nn_input_image_resolution = 512\n",
    "latent_dim = 200\n",
    "hidden_dims = [32, 64, 128, 256, 512]\n",
    "\n",
    "vae = mdl.VanillaVAE(\n",
    "    nn_input_image_resolution=nn_input_image_resolution, \n",
    "    latent_dim=latent_dim, \n",
    "    hidden_dims=hidden_dims\n",
    ")"
   ]
  },
  {
   "cell_type": "code",
   "execution_count": 5,
   "id": "5a8be7b7-88c4-4118-be51-6bb1c3aa19c0",
   "metadata": {},
   "outputs": [],
   "source": [
    "batch_size = 4\n",
    "mock_batch = torch.rand((batch_size, 3, nn_input_image_resolution, nn_input_image_resolution))"
   ]
  },
  {
   "cell_type": "code",
   "execution_count": 6,
   "id": "e5cda4b5-da3f-426a-b00a-f3361fe9d4fd",
   "metadata": {},
   "outputs": [],
   "source": [
    "recon_out, mu, log_var = vae(mock_batch)"
   ]
  },
  {
   "cell_type": "code",
   "execution_count": 7,
   "id": "b28fd88d-bb9a-4e82-9f17-c056cb861ede",
   "metadata": {},
   "outputs": [
    {
     "data": {
      "text/plain": [
       "torch.Size([4, 3, 512, 512])"
      ]
     },
     "execution_count": 7,
     "metadata": {},
     "output_type": "execute_result"
    }
   ],
   "source": [
    "recon_out.shape"
   ]
  },
  {
   "cell_type": "code",
   "execution_count": 8,
   "id": "023b8f29-d7b1-41d0-aa7e-a0e73a82334b",
   "metadata": {},
   "outputs": [
    {
     "data": {
      "text/plain": [
       "torch.Size([4, 200])"
      ]
     },
     "execution_count": 8,
     "metadata": {},
     "output_type": "execute_result"
    }
   ],
   "source": [
    "mu.shape"
   ]
  },
  {
   "cell_type": "code",
   "execution_count": 9,
   "id": "6954f455-3bb8-4fe5-9ce6-2536338ff924",
   "metadata": {},
   "outputs": [
    {
     "data": {
      "text/plain": [
       "torch.Size([4, 200])"
      ]
     },
     "execution_count": 9,
     "metadata": {},
     "output_type": "execute_result"
    }
   ],
   "source": [
    "log_var.shape"
   ]
  },
  {
   "cell_type": "code",
   "execution_count": 10,
   "id": "519bbc0a-17da-47d6-a94d-51cc501563a1",
   "metadata": {},
   "outputs": [],
   "source": [
    "vae_loss = l.VanillaVAELoss()"
   ]
  },
  {
   "cell_type": "code",
   "execution_count": 11,
   "id": "6a6f61bf-929f-4878-bdb0-8a5977832cdd",
   "metadata": {},
   "outputs": [],
   "source": [
    "total_loss, recon_loss, kld_loss = vae_loss(mock_batch, recon_out, mu, log_var)"
   ]
  },
  {
   "cell_type": "code",
   "execution_count": 12,
   "id": "133c8ae8-e102-4fb3-a373-47dd5b17823f",
   "metadata": {},
   "outputs": [
    {
     "data": {
      "text/plain": [
       "tensor(961.2949, grad_fn=<AddBackward0>)"
      ]
     },
     "execution_count": 12,
     "metadata": {},
     "output_type": "execute_result"
    }
   ],
   "source": [
    "total_loss"
   ]
  },
  {
   "cell_type": "code",
   "execution_count": 13,
   "id": "cc96f302-4546-4045-b765-84d4d9e24bef",
   "metadata": {},
   "outputs": [
    {
     "data": {
      "text/plain": [
       "tensor(0.0935)"
      ]
     },
     "execution_count": 13,
     "metadata": {},
     "output_type": "execute_result"
    }
   ],
   "source": [
    "recon_loss"
   ]
  },
  {
   "cell_type": "code",
   "execution_count": 14,
   "id": "f5a10d8c-1065-4b6b-a218-324a315b26b7",
   "metadata": {},
   "outputs": [
    {
     "data": {
      "text/plain": [
       "tensor(26.2578)"
      ]
     },
     "execution_count": 14,
     "metadata": {},
     "output_type": "execute_result"
    }
   ],
   "source": [
    "kld_loss"
   ]
  }
 ],
 "metadata": {
  "kernelspec": {
   "display_name": "Python 3 (ipykernel)",
   "language": "python",
   "name": "python3"
  },
  "language_info": {
   "codemirror_mode": {
    "name": "ipython",
    "version": 3
   },
   "file_extension": ".py",
   "mimetype": "text/x-python",
   "name": "python",
   "nbconvert_exporter": "python",
   "pygments_lexer": "ipython3",
   "version": "3.9.0"
  }
 },
 "nbformat": 4,
 "nbformat_minor": 5
}
