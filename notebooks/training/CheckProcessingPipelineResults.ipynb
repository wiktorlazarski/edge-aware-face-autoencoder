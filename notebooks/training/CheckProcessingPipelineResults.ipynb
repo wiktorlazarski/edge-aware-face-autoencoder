{
 "cells": [
  {
   "cell_type": "markdown",
   "metadata": {},
   "source": [
    "# Processing pipeline results"
   ]
  },
  {
   "cell_type": "code",
   "execution_count": 1,
   "metadata": {},
   "outputs": [],
   "source": [
    "import os\n",
    "\n",
    "os.chdir(\"/home/aneta/Desktop/GSN/code/edge-aware-face-autoencoder\")\n"
   ]
  },
  {
   "cell_type": "code",
   "execution_count": 2,
   "metadata": {},
   "outputs": [
    {
     "name": "stdout",
     "output_type": "stream",
     "text": [
      "/home/aneta/Desktop/GSN/code/edge-aware-face-autoencoder\n"
     ]
    }
   ],
   "source": [
    "!pwd"
   ]
  },
  {
   "cell_type": "code",
   "execution_count": 7,
   "metadata": {},
   "outputs": [
    {
     "name": "stdout",
     "output_type": "stream",
     "text": [
      "The autoreload extension is already loaded. To reload it, use:\n",
      "  %reload_ext autoreload\n"
     ]
    }
   ],
   "source": [
    "import matplotlib.pyplot as plt\n",
    "import numpy as np\n",
    "from torchvision import transforms\n",
    "\n",
    "import face_autoencoder.image_processing as ip\n",
    "from scripts.training import data_loading as dl\n",
    "\n",
    "%load_ext autoreload\n",
    "%autoreload 2\n"
   ]
  },
  {
   "cell_type": "code",
   "execution_count": 21,
   "metadata": {},
   "outputs": [
    {
     "name": "stdout",
     "output_type": "stream",
     "text": [
      "tensor([[[0.6833, 0.6774, 0.6726,  ..., 0.8148, 0.8118, 0.8069],\n",
      "         [0.6951, 0.6892, 0.6901,  ..., 0.8196, 0.8168, 0.8118],\n",
      "         [0.7002, 0.7002, 0.6990,  ..., 0.8227, 0.8196, 0.8148],\n",
      "         ...,\n",
      "         [0.0873, 0.0815, 0.0842,  ..., 0.1462, 0.1346, 0.1300],\n",
      "         [0.0834, 0.0725, 0.0748,  ..., 0.1307, 0.1255, 0.0962],\n",
      "         [0.0726, 0.0706, 0.0805,  ..., 0.1424, 0.1313, 0.1019]],\n",
      "\n",
      "        [[0.6127, 0.6068, 0.6020,  ..., 0.7677, 0.7647, 0.7598],\n",
      "         [0.6245, 0.6186, 0.6195,  ..., 0.7725, 0.7697, 0.7647],\n",
      "         [0.6296, 0.6296, 0.6284,  ..., 0.7756, 0.7725, 0.7677],\n",
      "         ...,\n",
      "         [0.0991, 0.0933, 0.0959,  ..., 0.1423, 0.1307, 0.1261],\n",
      "         [0.0951, 0.0842, 0.0865,  ..., 0.1268, 0.1216, 0.0922],\n",
      "         [0.0843, 0.0824, 0.0922,  ..., 0.1385, 0.1274, 0.0980]],\n",
      "\n",
      "        [[0.5735, 0.5676, 0.5628,  ..., 0.7128, 0.7098, 0.7049],\n",
      "         [0.5853, 0.5794, 0.5803,  ..., 0.7176, 0.7148, 0.7098],\n",
      "         [0.5903, 0.5903, 0.5892,  ..., 0.7207, 0.7176, 0.7128],\n",
      "         ...,\n",
      "         [0.1344, 0.1286, 0.1312,  ..., 0.1619, 0.1503, 0.1457],\n",
      "         [0.1304, 0.1195, 0.1218,  ..., 0.1464, 0.1412, 0.1119],\n",
      "         [0.1196, 0.1176, 0.1275,  ..., 0.1581, 0.1470, 0.1176]]])\n"
     ]
    }
   ],
   "source": [
    "DATASET_PATH = os.path.join(os.getcwd(), \"data\", \"dataset\", \"train\")\n",
    "\n",
    "preprocess_pipeline = ip.PreprocessingPipeline(nn_image_input_resolution=255)\n",
    "\n",
    "dataset = dl.CelebAFaceAutoencoderDataset(\n",
    "    dataset_root=DATASET_PATH, \n",
    "    preprocess_pipeline=preprocess_pipeline\n",
    ")\n",
    "\n",
    "img = dataset[48]\n",
    "print(img)\n",
    "\n",
    "#for img in dataset:\n",
    "assert len(img[img > 1]) == 0\n",
    "assert len(img[img < 0]) == 0\n"
   ]
  }
 ],
 "metadata": {
  "interpreter": {
   "hash": "31f2aee4e71d21fbe5cf8b01ff0e069b9275f58929596ceb00d14d90e3e16cd6"
  },
  "kernelspec": {
   "display_name": "Python 3.6.9 64-bit",
   "language": "python",
   "name": "python3"
  },
  "language_info": {
   "codemirror_mode": {
    "name": "ipython",
    "version": 3
   },
   "file_extension": ".py",
   "mimetype": "text/x-python",
   "name": "python",
   "nbconvert_exporter": "python",
   "pygments_lexer": "ipython3",
   "version": "3.6.9"
  },
  "orig_nbformat": 4
 },
 "nbformat": 4,
 "nbformat_minor": 2
}
