import os

os.chdir("/home/aneta/Desktop/GSN/code/edge-aware-face-autoencoder")
