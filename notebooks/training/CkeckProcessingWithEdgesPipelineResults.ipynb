{
 "cells": [
  {
   "cell_type": "markdown",
   "metadata": {},
   "source": [
    "\n",
    "# Processing with edges pipeline results"
   ]
  },
  {
   "cell_type": "code",
   "execution_count": 227,
   "metadata": {},
   "outputs": [],
   "source": [
    "import os\n",
    "\n",
    "os.chdir(\"/home/aneta/Desktop/GSN/code/edge-aware-face-autoencoder\")"
   ]
  },
  {
   "cell_type": "code",
   "execution_count": 228,
   "metadata": {},
   "outputs": [
    {
     "name": "stdout",
     "output_type": "stream",
     "text": [
      "/home/aneta/Desktop/GSN/code/edge-aware-face-autoencoder\n"
     ]
    }
   ],
   "source": [
    "!pwd"
   ]
  },
  {
   "cell_type": "code",
   "execution_count": 229,
   "metadata": {},
   "outputs": [
    {
     "name": "stdout",
     "output_type": "stream",
     "text": [
      "The autoreload extension is already loaded. To reload it, use:\n",
      "  %reload_ext autoreload\n"
     ]
    }
   ],
   "source": [
    "import face_autoencoder.image_processing as ip\n",
    "from scripts.training import data_loading as dl\n",
    "\n",
    "%load_ext autoreload\n",
    "%autoreload 2"
   ]
  },
  {
   "cell_type": "code",
   "execution_count": 230,
   "metadata": {},
   "outputs": [],
   "source": [
    "DATASET_PATH = os.path.join(os.getcwd(), \"data\", \"dataset\", \"train\")"
   ]
  },
  {
   "cell_type": "code",
   "execution_count": 231,
   "metadata": {},
   "outputs": [
    {
     "name": "stdout",
     "output_type": "stream",
     "text": [
      "tensor([[[0.6833, 0.6775, 0.6725,  ..., 0.8147, 0.8118, 0.8069],\n",
      "         [0.6951, 0.6892, 0.6902,  ..., 0.8196, 0.8167, 0.8118],\n",
      "         [0.7000, 0.7000, 0.6990,  ..., 0.8225, 0.8196, 0.8147],\n",
      "         ...,\n",
      "         [0.0873, 0.0814, 0.0843,  ..., 0.1461, 0.1343, 0.1294],\n",
      "         [0.0833, 0.0725, 0.0745,  ..., 0.1304, 0.1255, 0.0961],\n",
      "         [0.0725, 0.0706, 0.0804,  ..., 0.1422, 0.1314, 0.1020]],\n",
      "\n",
      "        [[0.6127, 0.6069, 0.6020,  ..., 0.7676, 0.7647, 0.7598],\n",
      "         [0.6245, 0.6186, 0.6196,  ..., 0.7725, 0.7696, 0.7647],\n",
      "         [0.6294, 0.6294, 0.6284,  ..., 0.7755, 0.7725, 0.7676],\n",
      "         ...,\n",
      "         [0.0990, 0.0931, 0.0961,  ..., 0.1422, 0.1304, 0.1255],\n",
      "         [0.0951, 0.0843, 0.0863,  ..., 0.1265, 0.1216, 0.0922],\n",
      "         [0.0843, 0.0824, 0.0922,  ..., 0.1382, 0.1275, 0.0980]],\n",
      "\n",
      "        [[0.5735, 0.5676, 0.5627,  ..., 0.7127, 0.7098, 0.7049],\n",
      "         [0.5853, 0.5794, 0.5804,  ..., 0.7176, 0.7147, 0.7098],\n",
      "         [0.5902, 0.5902, 0.5892,  ..., 0.7206, 0.7176, 0.7127],\n",
      "         ...,\n",
      "         [0.1343, 0.1284, 0.1314,  ..., 0.1618, 0.1500, 0.1451],\n",
      "         [0.1304, 0.1196, 0.1216,  ..., 0.1461, 0.1412, 0.1118],\n",
      "         [0.1196, 0.1176, 0.1275,  ..., 0.1578, 0.1471, 0.1176]]])\n",
      "torch.Size([3, 256, 256])\n",
      "tensor([[1., 1., 1.,  ..., 1., 1., 1.],\n",
      "        [1., 1., 1.,  ..., 1., 1., 1.],\n",
      "        [1., 1., 1.,  ..., 1., 1., 1.],\n",
      "        ...,\n",
      "        [1., 1., 1.,  ..., 1., 1., 1.],\n",
      "        [1., 1., 1.,  ..., 1., 1., 1.],\n",
      "        [1., 1., 1.,  ..., 1., 1., 1.]])\n",
      "torch.Size([256, 256])\n",
      "tensor([ 1., 15.])\n",
      "tensor([ 1., 15.])\n"
     ]
    }
   ],
   "source": [
    "preprocess_pipeline = ip.PreprocessingPipelineWithEdges(nn_input_image_resolution=256, weights=15)\n",
    "\n",
    "dataset = dl.CelebAFaceAutoencoderDatasetWithEdges(\n",
    "    dataset_root=DATASET_PATH, \n",
    "    preprocess_pipeline=preprocess_pipeline\n",
    ")\n",
    "\n",
    "img, edge = dataset[48]\n",
    "print(img)\n",
    "print(img.shape)\n",
    "print(edge)\n",
    "print(edge.shape)\n",
    "import torch\n",
    "\n",
    "print(edge.unique())\n",
    "#for img, edge in dataset:\n",
    "assert len(img[img > 1]) == 0\n",
    "assert len(img[img < 0]) == 0\n",
    "print(edge.unique())\n",
    "assert len(edge[edge != 1]) == len(edge[edge == 15])\n",
    "assert len(edge[edge != 15]) == len(edge[edge == 1])\n"
   ]
  }
 ],
 "metadata": {
  "interpreter": {
   "hash": "3f9feab77dccbc32047fe386a6ff0291604d517c4baa536ada736aade9f873f0"
  },
  "kernelspec": {
   "display_name": "Python 3.7.5 ('venv': venv)",
   "language": "python",
   "name": "python3"
  },
  "language_info": {
   "codemirror_mode": {
    "name": "ipython",
    "version": 3
   },
   "file_extension": ".py",
   "mimetype": "text/x-python",
   "name": "python",
   "nbconvert_exporter": "python",
   "pygments_lexer": "ipython3",
   "version": "3.7.5"
  },
  "orig_nbformat": 4
 },
 "nbformat": 4,
 "nbformat_minor": 2
}
